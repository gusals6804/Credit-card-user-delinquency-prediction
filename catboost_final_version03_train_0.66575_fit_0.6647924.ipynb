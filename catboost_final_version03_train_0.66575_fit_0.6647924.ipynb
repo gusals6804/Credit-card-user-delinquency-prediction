{
 "cells": [
  {
   "cell_type": "code",
   "execution_count": 1,
   "id": "grand-flower",
   "metadata": {},
   "outputs": [
    {
     "data": {
      "text/html": [
       "<style>.container { width: 100% !important; }</style>"
      ],
      "text/plain": [
       "<IPython.core.display.HTML object>"
      ]
     },
     "metadata": {},
     "output_type": "display_data"
    }
   ],
   "source": [
    "import warnings\n",
    "warnings.filterwarnings('ignore')\n",
    "\n",
    "import pandas as pd\n",
    "import numpy as np\n",
    "import random\n",
    "\n",
    "from lightgbm import LGBMClassifier\n",
    "from catboost import CatBoostClassifier\n",
    "from sklearn.model_selection import StratifiedKFold\n",
    "from sklearn.preprocessing import OneHotEncoder\n",
    "\n",
    "from sklearn.preprocessing import MinMaxScaler, RobustScaler\n",
    "from kaggler.preprocessing import LabelEncoder\n",
    "\n",
    "from sklearn.model_selection import KFold, StratifiedKFold\n",
    "from sklearn.metrics import accuracy_score, confusion_matrix, log_loss\n",
    "from tensorflow.keras.utils import to_categorical\n",
    "\n",
    "import matplotlib.pyplot as plt\n",
    "import seaborn as sns\n",
    "\n",
    "from IPython.core.display import display, HTML\n",
    "display(HTML(\"<style>.container { width: 100% !important; }</style>\"))"
   ]
  },
  {
   "cell_type": "markdown",
   "id": "governing-spirit",
   "metadata": {},
   "source": [
    "# 데이터 불러오기"
   ]
  },
  {
   "cell_type": "code",
   "execution_count": 2,
   "id": "returning-feelings",
   "metadata": {},
   "outputs": [],
   "source": [
    "train = pd.read_csv('./open/train.csv')\n",
    "train = train.drop(['index'], axis=1)\n",
    "\n",
    "test = pd.read_csv('./open/test.csv')\n",
    "test = test.drop(['index'], axis=1)\n",
    "\n",
    "submit = pd.read_csv('./open/sample_submission.csv')"
   ]
  },
  {
   "cell_type": "code",
   "execution_count": 3,
   "id": "macro-lexington",
   "metadata": {},
   "outputs": [],
   "source": [
    "# day를 year로 변경해주는 함수\n",
    "def days_to_age(x):\n",
    "    return (x*-1)/365"
   ]
  },
  {
   "cell_type": "code",
   "execution_count": 4,
   "id": "theoretical-people",
   "metadata": {},
   "outputs": [],
   "source": [
    "# 마이너스 변환\n",
    "def minus(x):\n",
    "    return x * -1"
   ]
  },
  {
   "cell_type": "markdown",
   "id": "motivated-junction",
   "metadata": {},
   "source": [
    "# 이상치 제거\n",
    "효과는 없었음"
   ]
  },
  {
   "cell_type": "code",
   "execution_count": 5,
   "id": "referenced-washington",
   "metadata": {},
   "outputs": [],
   "source": [
    "def remove_outlier(train, column):\n",
    "    \n",
    "    df = train[column]\n",
    "    # 1분위수\n",
    "    quan_25 = np.percentile(df.values, 25)\n",
    "    \n",
    "    # 3분위수\n",
    "    quan_75 = np.percentile(df.values, 75)\n",
    "    \n",
    "    iqr = quan_75 - quan_25\n",
    "    \n",
    "    lowest = quan_25 - iqr * 5\n",
    "    highest = quan_75 + iqr * 5\n",
    "    outlier_index = df[(df < lowest) | (df > highest)].index\n",
    "    print('outlier의 수 : ' , len(outlier_index))\n",
    "    print(df.iloc[outlier_index])\n",
    "    train.drop(outlier_index, axis = 0, inplace = True)\n",
    "    \n",
    "    return train\n"
   ]
  },
  {
   "cell_type": "code",
   "execution_count": 6,
   "id": "advanced-interim",
   "metadata": {},
   "outputs": [
    {
     "name": "stdout",
     "output_type": "stream",
     "text": [
      "outlier의 수 :  6\n"
     ]
    },
    {
     "data": {
      "text/plain": [
       "26451"
      ]
     },
     "execution_count": 6,
     "metadata": {},
     "output_type": "execute_result"
    }
   ],
   "source": [
    "candidate = ['child_num']\n",
    "for cand in candidate:  \n",
    "    train = remove_outlier(train,cand)\n",
    "\n",
    "train.reset_index(drop = True,inplace = True)\n",
    "len(train)"
   ]
  },
  {
   "cell_type": "markdown",
   "id": "unlikely-ethernet",
   "metadata": {},
   "source": [
    "# 추가 변수 생성하기"
   ]
  },
  {
   "cell_type": "code",
   "execution_count": 7,
   "id": "refined-board",
   "metadata": {},
   "outputs": [],
   "source": [
    "def add_var(data):\n",
    "    \n",
    "    # 개개인을 구분할 수 있는 변수들을 묶어서 생성\n",
    "    data['personal_id'] = data['gender'] + \"_\" + data['DAYS_BIRTH'].apply(str) + \"_\" + data['income_total'].apply(str) + \"_\" + data['income_type'].apply(str)\n",
    "    \n",
    "    # 카드를 생성한 기간도 같은 경우가 있어서 begin을 추가하여 하나의 변수를 더 생성\n",
    "    data['personal_begin_id'] = data['gender'] + \"_\" + data['DAYS_BIRTH'].apply(str) + \"_\" + data['income_total'].apply(str) + \"_\" + data['income_type'].apply(str) + \"_\" + data['begin_month'].apply(str)\n",
    "    \n",
    "    # 그외의 변수들을 조합하여 하나의 변수로 추가 생성\n",
    "    data['g_r_c'] = data['gender'] + \"_\" + data['reality'] + \"_\" + data['car'] \n",
    "    data['p_w_e'] = data['phone'].astype(str) + \"_\" + data['work_phone'].astype(str) + \"_\" + data['email'].astype(str) \n",
    "#     data['f_i'] = data['family_type'] + \"_\" + data['income_type']\n",
    "    \n",
    "    return data"
   ]
  },
  {
   "cell_type": "code",
   "execution_count": 8,
   "id": "racial-parker",
   "metadata": {},
   "outputs": [],
   "source": [
    "train = add_var(train)\n",
    "test = add_var(test)"
   ]
  },
  {
   "cell_type": "markdown",
   "id": "weekly-third",
   "metadata": {},
   "source": [
    "# 숫자형 변수 전처리 및 변수 생성"
   ]
  },
  {
   "cell_type": "markdown",
   "id": "cognitive-oakland",
   "metadata": {},
   "source": [
    "다양한 방법으로 전처리 및 변수 생성을 진행하면서 성능이 제일 잘 나온 경우로 정리하였습니다."
   ]
  },
  {
   "cell_type": "code",
   "execution_count": 9,
   "id": "mounted-zealand",
   "metadata": {},
   "outputs": [],
   "source": [
    "def numeric_process(data):\n",
    "    \n",
    "    # income_total 변수 전처리\n",
    "    # 만단위로 생성\n",
    "    data['income_total'] = data['income_total']/10000\n",
    "    # 편차 제곱 변수 생성\n",
    "    data['income_total_dev'] = (data['income_total'] - data['income_total'].mean())**2\n",
    "    # 로그 변환\n",
    "    data['income_total_log'] = data['income_total'].apply(np.log1p)\n",
    "\n",
    "    # DAYS_EMPLOYED 변수 전처리\n",
    "    # 로그 변환\n",
    "    data['DAYS_EMPLOYED_log'] = data['DAYS_EMPLOYED'].map(lambda x: x if x < 0 else 0).apply(lambda x: np.log1p(x*-1))\n",
    "    # day를 year로 변환\n",
    "    # 0 이상인 경우 0으로 모두 변환\n",
    "    data.loc[data['DAYS_EMPLOYED'] >= 0,'DAYS_EMPLOYED']=0\n",
    "    data['DAYS_EMPLOYED'] = data['DAYS_EMPLOYED'].apply(days_to_age)\n",
    "    \n",
    "    # begin_month 변수 전처리\n",
    "    # 마이너스 변환\n",
    "    data['begin_month'] = data['begin_month'].apply(minus)\n",
    "    \n",
    "    # DAYS_BIRTH 변수 전처리\n",
    "    # day를 year로 변환\n",
    "    data['DAYS_BIRTH'] = data['DAYS_BIRTH'].apply(days_to_age)\n",
    "\n",
    "    #  DAYS_BIRTH, DAYS_EMPLOYED 비율로 income 데이터 전처리\n",
    "    data['EMPLOYED_BIRTH_RATIO'] = data['DAYS_EMPLOYED']/data['DAYS_BIRTH']\n",
    "    data['INCOME_EMPLOYED_RATIO'] = data['income_total']/data['DAYS_EMPLOYED']\n",
    "    data['INCOME_BIRTH_RATIO'] = data['income_total']/data['DAYS_BIRTH']\n",
    "    \n",
    "    # 가족수 - 자식수\n",
    "    data['diff_fam_child'] = data['family_size'] - data['child_num']\n",
    "    # chid_num과 family_size는 다음과 같이 최대 2와 5가 되도록 전처리\n",
    "    data.loc[data['child_num'] >= 2,'child_num'] = 2\n",
    "    data.loc[data['family_size'] >= 5,'child_num'] = 5\n",
    "    \n",
    "    # 가족수와 자녀수 sum\n",
    "    data['FAM_CHILD_SUM'] = data[['child_num', 'family_size']].sum(axis=1)\n",
    "    \n",
    "    # income을 가족 수로 나눈 비율\n",
    "    data['INCOME_FAM_RATIO'] = data['income_total']/data['family_size']\n",
    "    data['INCOME_child_num_RATIO'] = data['income_total']/data['child_num']\n",
    "    \n",
    "    # 일을하게 된 시점 변수 추가\n",
    "    data['before_EMPLOYED'] = data['DAYS_BIRTH'] - data['DAYS_EMPLOYED']\n",
    "    data['INCOME_before_EMPLOYED_RATIO'] = data['income_total']/data['before_EMPLOYED']\n",
    "    \n",
    "    return data "
   ]
  },
  {
   "cell_type": "code",
   "execution_count": 10,
   "id": "early-coral",
   "metadata": {},
   "outputs": [],
   "source": [
    "train = numeric_process(train)\n",
    "test = numeric_process(test)"
   ]
  },
  {
   "cell_type": "code",
   "execution_count": 11,
   "id": "single-magic",
   "metadata": {},
   "outputs": [],
   "source": [
    "def occype_process(data):\n",
    "    \n",
    "    # 경력이 없고 직업군이 none인 사람은 no_work로 대체\n",
    "    data['occyp_type'] = data['occyp_type'].fillna('NAN')\n",
    "    data.loc[(data['DAYS_EMPLOYED'] == 0) & (data['occyp_type'] == 'NAN'), 'occyp_type'] = 'no_work'\n",
    "    print(data['occyp_type'].value_counts())\n",
    "\n",
    "    return data\n"
   ]
  },
  {
   "cell_type": "code",
   "execution_count": 12,
   "id": "planned-texture",
   "metadata": {},
   "outputs": [
    {
     "name": "stdout",
     "output_type": "stream",
     "text": [
      "Laborers                 4512\n",
      "no_work                  4438\n",
      "NAN                      3733\n",
      "Core staff               2646\n",
      "Sales staff              2539\n",
      "Managers                 2167\n",
      "Drivers                  1572\n",
      "High skill tech staff    1040\n",
      "Accountants               902\n",
      "Medicine staff            864\n",
      "Cooking staff             457\n",
      "Security staff            424\n",
      "Cleaning staff            401\n",
      "Private service staff     243\n",
      "Low-skill Laborers        127\n",
      "Waiters/barmen staff      123\n",
      "Secretaries                97\n",
      "Realty agents              63\n",
      "HR staff                   62\n",
      "IT staff                   41\n",
      "Name: occyp_type, dtype: int64\n",
      "Laborers                 1699\n",
      "no_work                  1697\n",
      "NAN                      1455\n",
      "Sales staff               946\n",
      "Core staff                945\n",
      "Managers                  845\n",
      "Drivers                   563\n",
      "Medicine staff            343\n",
      "High skill tech staff     343\n",
      "Accountants               339\n",
      "Cooking staff             198\n",
      "Security staff            168\n",
      "Cleaning staff            148\n",
      "Private service staff     101\n",
      "Secretaries                54\n",
      "Waiters/barmen staff       50\n",
      "Low-skill Laborers         48\n",
      "HR staff                   23\n",
      "IT staff                   19\n",
      "Realty agents              16\n",
      "Name: occyp_type, dtype: int64\n"
     ]
    }
   ],
   "source": [
    "train = occype_process(train)\n",
    "test = occype_process(test)"
   ]
  },
  {
   "cell_type": "code",
   "execution_count": 13,
   "id": "covered-action",
   "metadata": {},
   "outputs": [],
   "source": [
    "#구간화 함수\n",
    "def make_bin(df, variable, n):\n",
    "    \n",
    "    data = df\n",
    "    count, bin_dividers = np.histogram(data[variable], bins=n)\n",
    "    bin_names=[str(i) for i in range(n)]\n",
    "    data['%s_bin' % variable] = pd.cut(x=data[variable], bins=bin_dividers, labels=bin_names, include_lowest=True)\n",
    "    data['%s_bin' % variable] = pd.factorize(data['%s_bin' % variable])[0]\n",
    "    print(data['%s_bin' % variable])\n",
    "    \n",
    "    return data"
   ]
  },
  {
   "cell_type": "code",
   "execution_count": 14,
   "id": "employed-example",
   "metadata": {},
   "outputs": [
    {
     "name": "stdout",
     "output_type": "stream",
     "text": [
      "0        0\n",
      "1        1\n",
      "2        2\n",
      "3        3\n",
      "4        3\n",
      "        ..\n",
      "26446    1\n",
      "26447    3\n",
      "26448    5\n",
      "26449    5\n",
      "26450    2\n",
      "Name: DAYS_BIRTH_bin, Length: 26451, dtype: int64\n",
      "0       0\n",
      "1       1\n",
      "2       2\n",
      "3       1\n",
      "4       3\n",
      "       ..\n",
      "9995    1\n",
      "9996    8\n",
      "9997    4\n",
      "9998    3\n",
      "9999    9\n",
      "Name: DAYS_BIRTH_bin, Length: 10000, dtype: int64\n"
     ]
    }
   ],
   "source": [
    "# days_birth만 구간화 했을 떄 가장 성능이 좋았음\n",
    "\n",
    "train = make_bin(train, 'DAYS_BIRTH', n=10)\n",
    "# train = make_bin(train, 'income_total_log', n=20)\n",
    "# train = make_bin(train, 'DAYS_EMPLOYED_log', n=15)\n",
    "#make_bin(train, 'begin_month', n=6)\n",
    "test = make_bin(test, 'DAYS_BIRTH', n=10)\n",
    "# test = make_bin(test, 'income_total_log', n=20)\n",
    "# test = make_bin(test, 'DAYS_EMPLOYED_log', n=15)\n",
    "#make_bin(test, 'begin_month', n=6)"
   ]
  },
  {
   "cell_type": "code",
   "execution_count": 15,
   "id": "wired-marker",
   "metadata": {},
   "outputs": [],
   "source": [
    "# 불필요 변수 제거\n",
    "train = train.drop(['income_total', 'DAYS_EMPLOYED', 'FLAG_MOBIL'], axis=1)\n",
    "test = test.drop(['income_total', 'DAYS_EMPLOYED', 'FLAG_MOBIL'], axis=1)"
   ]
  },
  {
   "cell_type": "code",
   "execution_count": 16,
   "id": "clean-economics",
   "metadata": {},
   "outputs": [
    {
     "data": {
      "text/plain": [
       "((26451, 33), (10000, 32))"
      ]
     },
     "execution_count": 16,
     "metadata": {},
     "output_type": "execute_result"
    }
   ],
   "source": [
    "train.shape, test.shape"
   ]
  },
  {
   "cell_type": "code",
   "execution_count": 17,
   "id": "neither-processor",
   "metadata": {},
   "outputs": [],
   "source": [
    "train_x = train.drop(['credit'],axis=1)\n",
    "train_y = train['credit']"
   ]
  },
  {
   "cell_type": "code",
   "execution_count": 18,
   "id": "sufficient-separation",
   "metadata": {},
   "outputs": [
    {
     "name": "stdout",
     "output_type": "stream",
     "text": [
      "<class 'pandas.core.frame.DataFrame'>\n",
      "RangeIndex: 26451 entries, 0 to 26450\n",
      "Data columns (total 32 columns):\n",
      " #   Column                        Non-Null Count  Dtype  \n",
      "---  ------                        --------------  -----  \n",
      " 0   gender                        26451 non-null  object \n",
      " 1   car                           26451 non-null  object \n",
      " 2   reality                       26451 non-null  object \n",
      " 3   child_num                     26451 non-null  int64  \n",
      " 4   income_type                   26451 non-null  object \n",
      " 5   edu_type                      26451 non-null  object \n",
      " 6   family_type                   26451 non-null  object \n",
      " 7   house_type                    26451 non-null  object \n",
      " 8   DAYS_BIRTH                    26451 non-null  float64\n",
      " 9   work_phone                    26451 non-null  int64  \n",
      " 10  phone                         26451 non-null  int64  \n",
      " 11  email                         26451 non-null  int64  \n",
      " 12  occyp_type                    26451 non-null  object \n",
      " 13  family_size                   26451 non-null  float64\n",
      " 14  begin_month                   26451 non-null  float64\n",
      " 15  personal_id                   26451 non-null  object \n",
      " 16  personal_begin_id             26451 non-null  object \n",
      " 17  g_r_c                         26451 non-null  object \n",
      " 18  p_w_e                         26451 non-null  object \n",
      " 19  income_total_dev              26451 non-null  float64\n",
      " 20  income_total_log              26451 non-null  float64\n",
      " 21  DAYS_EMPLOYED_log             26451 non-null  float64\n",
      " 22  EMPLOYED_BIRTH_RATIO          26451 non-null  float64\n",
      " 23  INCOME_EMPLOYED_RATIO         26451 non-null  float64\n",
      " 24  INCOME_BIRTH_RATIO            26451 non-null  float64\n",
      " 25  diff_fam_child                26451 non-null  float64\n",
      " 26  FAM_CHILD_SUM                 26451 non-null  float64\n",
      " 27  INCOME_FAM_RATIO              26451 non-null  float64\n",
      " 28  INCOME_child_num_RATIO        26451 non-null  float64\n",
      " 29  before_EMPLOYED               26451 non-null  float64\n",
      " 30  INCOME_before_EMPLOYED_RATIO  26451 non-null  float64\n",
      " 31  DAYS_BIRTH_bin                26451 non-null  int64  \n",
      "dtypes: float64(15), int64(5), object(12)\n",
      "memory usage: 6.5+ MB\n"
     ]
    }
   ],
   "source": [
    "train_x.info()"
   ]
  },
  {
   "cell_type": "code",
   "execution_count": 19,
   "id": "respective-conversion",
   "metadata": {},
   "outputs": [
    {
     "name": "stdout",
     "output_type": "stream",
     "text": [
      "Cat features are: ['gender', 'car', 'reality', 'income_type', 'edu_type', 'family_type', 'house_type', 'occyp_type', 'personal_id', 'personal_begin_id', 'g_r_c', 'p_w_e']\n",
      "[ 0  1  2  4  5  6  7 12 15 16 17 18]\n"
     ]
    }
   ],
   "source": [
    "# object형 변수는 cat_features에 추가\n",
    "cat_features = [f for f in train_x.columns if train_x[f].dtype == 'object']\n",
    "\n",
    "def column_index(df, cat_features):\n",
    "    cols = df.columns.values\n",
    "    sidx = np.argsort(cols)\n",
    "    return sidx[np.searchsorted(cols, cat_features, sorter=sidx)]\n",
    "\n",
    "cat_features_idx = column_index(train_x, cat_features)    \n",
    "print(\"Cat features are: %s\" % [f for f in cat_features])\n",
    "print(cat_features_idx)"
   ]
  },
  {
   "cell_type": "markdown",
   "id": "heated-pulse",
   "metadata": {},
   "source": [
    "# 모델 학습"
   ]
  },
  {
   "cell_type": "code",
   "execution_count": 20,
   "id": "tested-camel",
   "metadata": {
    "scrolled": true
   },
   "outputs": [],
   "source": [
    "cat_models={}\n",
    "\n",
    "def run_kfold(max_depth, learning_rate, random_seed):\n",
    "    \n",
    "    folds=StratifiedKFold(n_splits=10, shuffle=True, random_state=55)\n",
    "    outcomes=[]\n",
    "    sub=np.zeros((test.shape[0], 3))  \n",
    "    \n",
    "    for seed in random_seed:\n",
    "        for n_fold, (train_index, val_index) in enumerate(folds.split(train_x, train_y)):\n",
    "            print(f'===================================={n_fold+1}============================================')\n",
    "            \n",
    "            X_train, X_val = train_x.iloc[train_index], train_x.iloc[val_index]\n",
    "            y_train, y_val = train_y.iloc[train_index], train_y.iloc[val_index]\n",
    "\n",
    "            # early_stopping 50에서 가장 좋은 점수를 내는 learning_rate를 활용\n",
    "            cat = CatBoostClassifier(n_estimators=3000, max_depth=max_depth, random_seed=seed, learning_rate=learning_rate, bootstrap_type ='Bernoulli')\n",
    "            cat.fit(X_train, y_train,\n",
    "                  eval_set=[(X_train, y_train), (X_val, y_val)],\n",
    "                  early_stopping_rounds=50, cat_features=cat_features,\n",
    "                  verbose=100)\n",
    "\n",
    "            cat_models[n_fold] = cat\n",
    "\n",
    "            predictions = cat.predict_proba(X_val)\n",
    "            test_predictions = cat.predict_proba(test)\n",
    "\n",
    "            logloss=log_loss(to_categorical(y_val), predictions)\n",
    "            outcomes.append(logloss)\n",
    "            print(f\"FOLD {n_fold+1} : logloss:{logloss}\")\n",
    "\n",
    "            sub+= test_predictions\n",
    "\n",
    "            print(f'================================================================================\\n\\n')\n",
    "\n",
    "    mean_outcome=np.mean(outcomes)\n",
    "    print(\"Mean:{}\".format(mean_outcome))\n",
    "    return sub/(folds.n_splits * len(random_seed))\n",
    "    \n"
   ]
  },
  {
   "cell_type": "code",
   "execution_count": 21,
   "id": "mathematical-bundle",
   "metadata": {
    "scrolled": true
   },
   "outputs": [
    {
     "name": "stdout",
     "output_type": "stream",
     "text": [
      "====================================1============================================\n",
      "0:\tlearn: 1.0753981\ttest: 1.0753981\ttest1: 1.0756713\tbest: 1.0756713 (0)\ttotal: 157ms\tremaining: 7m 49s\n",
      "100:\tlearn: 0.7193150\ttest: 0.5183206\ttest1: 0.6833848\tbest: 0.6833848 (100)\ttotal: 9.98s\tremaining: 4m 46s\n",
      "200:\tlearn: 0.7043177\ttest: 0.4936565\ttest1: 0.6754033\tbest: 0.6754033 (200)\ttotal: 22.8s\tremaining: 5m 16s\n",
      "300:\tlearn: 0.6885788\ttest: 0.4764666\ttest1: 0.6723342\tbest: 0.6723342 (300)\ttotal: 36.2s\tremaining: 5m 24s\n",
      "400:\tlearn: 0.6738639\ttest: 0.4705566\ttest1: 0.6711357\tbest: 0.6711357 (400)\ttotal: 49.8s\tremaining: 5m 22s\n",
      "500:\tlearn: 0.6590802\ttest: 0.4663528\ttest1: 0.6707385\tbest: 0.6706953 (496)\ttotal: 1m 3s\tremaining: 5m 18s\n",
      "600:\tlearn: 0.6420648\ttest: 0.4609411\ttest1: 0.6705789\tbest: 0.6703244 (574)\ttotal: 1m 18s\tremaining: 5m 11s\n",
      "Stopped by overfitting detector  (50 iterations wait)\n",
      "\n",
      "bestTest = 0.6703244328\n",
      "bestIteration = 574\n",
      "\n",
      "Shrink model to first 575 iterations.\n",
      "FOLD 1 : logloss:0.6703244328385796\n",
      "================================================================================\n",
      "\n",
      "\n",
      "====================================2============================================\n",
      "0:\tlearn: 1.0767587\ttest: 1.0767064\ttest1: 1.0766406\tbest: 1.0766406 (0)\ttotal: 133ms\tremaining: 6m 38s\n",
      "100:\tlearn: 0.7175677\ttest: 0.5180454\ttest1: 0.6779790\tbest: 0.6779790 (100)\ttotal: 10.6s\tremaining: 5m 4s\n",
      "200:\tlearn: 0.7004349\ttest: 0.4924108\ttest1: 0.6709044\tbest: 0.6708515 (189)\ttotal: 23.7s\tremaining: 5m 29s\n",
      "300:\tlearn: 0.6862630\ttest: 0.4857915\ttest1: 0.6694773\tbest: 0.6693898 (297)\ttotal: 37.4s\tremaining: 5m 35s\n",
      "400:\tlearn: 0.6708464\ttest: 0.4735211\ttest1: 0.6682991\tbest: 0.6682671 (397)\ttotal: 51.6s\tremaining: 5m 34s\n",
      "Stopped by overfitting detector  (50 iterations wait)\n",
      "\n",
      "bestTest = 0.6679707003\n",
      "bestIteration = 443\n",
      "\n",
      "Shrink model to first 444 iterations.\n",
      "FOLD 2 : logloss:0.6679707002697142\n",
      "================================================================================\n",
      "\n",
      "\n",
      "====================================3============================================\n",
      "0:\tlearn: 1.0768867\ttest: 1.0768712\ttest1: 1.0764059\tbest: 1.0764059 (0)\ttotal: 143ms\tremaining: 7m 7s\n",
      "100:\tlearn: 0.7180861\ttest: 0.5158097\ttest1: 0.6626619\tbest: 0.6626619 (100)\ttotal: 10.5s\tremaining: 5m 1s\n",
      "200:\tlearn: 0.7031455\ttest: 0.4740190\ttest1: 0.6540514\tbest: 0.6540514 (200)\ttotal: 23.6s\tremaining: 5m 28s\n",
      "300:\tlearn: 0.6885999\ttest: 0.4609187\ttest1: 0.6501254\tbest: 0.6501254 (300)\ttotal: 36.7s\tremaining: 5m 29s\n",
      "400:\tlearn: 0.6760931\ttest: 0.4565245\ttest1: 0.6489303\tbest: 0.6488591 (396)\ttotal: 50.6s\tremaining: 5m 27s\n",
      "500:\tlearn: 0.6628593\ttest: 0.4511678\ttest1: 0.6480795\tbest: 0.6479855 (488)\ttotal: 1m 4s\tremaining: 5m 20s\n",
      "Stopped by overfitting detector  (50 iterations wait)\n",
      "\n",
      "bestTest = 0.6479855453\n",
      "bestIteration = 488\n",
      "\n",
      "Shrink model to first 489 iterations.\n",
      "FOLD 3 : logloss:0.6479855453156986\n",
      "================================================================================\n",
      "\n",
      "\n",
      "====================================4============================================\n",
      "0:\tlearn: 1.0752382\ttest: 1.0751911\ttest1: 1.0753775\tbest: 1.0753775 (0)\ttotal: 100ms\tremaining: 4m 59s\n",
      "100:\tlearn: 0.7158472\ttest: 0.5161902\ttest1: 0.6824792\tbest: 0.6824792 (100)\ttotal: 10.9s\tremaining: 5m 11s\n",
      "200:\tlearn: 0.6999906\ttest: 0.4789495\ttest1: 0.6761613\tbest: 0.6760980 (198)\ttotal: 23.6s\tremaining: 5m 28s\n",
      "300:\tlearn: 0.6862390\ttest: 0.4621209\ttest1: 0.6756022\tbest: 0.6755859 (299)\ttotal: 37.1s\tremaining: 5m 32s\n",
      "Stopped by overfitting detector  (50 iterations wait)\n",
      "\n",
      "bestTest = 0.6754479136\n",
      "bestIteration = 307\n",
      "\n",
      "Shrink model to first 308 iterations.\n",
      "FOLD 4 : logloss:0.6754479136457409\n",
      "================================================================================\n",
      "\n",
      "\n",
      "====================================5============================================\n",
      "0:\tlearn: 1.0767520\ttest: 1.0766804\ttest1: 1.0769713\tbest: 1.0769713 (0)\ttotal: 146ms\tremaining: 7m 17s\n",
      "100:\tlearn: 0.7174475\ttest: 0.5156993\ttest1: 0.6845620\tbest: 0.6845620 (100)\ttotal: 11.2s\tremaining: 5m 20s\n",
      "200:\tlearn: 0.7018300\ttest: 0.4760076\ttest1: 0.6768769\tbest: 0.6768769 (200)\ttotal: 24.5s\tremaining: 5m 41s\n",
      "300:\tlearn: 0.6877278\ttest: 0.4637876\ttest1: 0.6748814\tbest: 0.6748563 (299)\ttotal: 39.5s\tremaining: 5m 54s\n",
      "400:\tlearn: 0.6719990\ttest: 0.4570220\ttest1: 0.6733865\tbest: 0.6733865 (400)\ttotal: 54.7s\tremaining: 5m 54s\n",
      "500:\tlearn: 0.6567895\ttest: 0.4521291\ttest1: 0.6731344\tbest: 0.6729575 (476)\ttotal: 1m 9s\tremaining: 5m 45s\n",
      "Stopped by overfitting detector  (50 iterations wait)\n",
      "\n",
      "bestTest = 0.6729574874\n",
      "bestIteration = 476\n",
      "\n",
      "Shrink model to first 477 iterations.\n",
      "FOLD 5 : logloss:0.6729574874194995\n",
      "================================================================================\n",
      "\n",
      "\n",
      "====================================6============================================\n",
      "0:\tlearn: 1.0757957\ttest: 1.0757705\ttest1: 1.0757407\tbest: 1.0757407 (0)\ttotal: 108ms\tremaining: 5m 24s\n",
      "100:\tlearn: 0.7171833\ttest: 0.5154398\ttest1: 0.6806437\tbest: 0.6806437 (100)\ttotal: 11.3s\tremaining: 5m 25s\n",
      "200:\tlearn: 0.6997364\ttest: 0.4857641\ttest1: 0.6731033\tbest: 0.6731033 (200)\ttotal: 24.6s\tremaining: 5m 42s\n",
      "300:\tlearn: 0.6843505\ttest: 0.4740271\ttest1: 0.6709090\tbest: 0.6709090 (300)\ttotal: 38.9s\tremaining: 5m 48s\n",
      "400:\tlearn: 0.6682932\ttest: 0.4677556\ttest1: 0.6693621\tbest: 0.6693471 (382)\ttotal: 53.1s\tremaining: 5m 43s\n",
      "Stopped by overfitting detector  (50 iterations wait)\n",
      "\n",
      "bestTest = 0.6691909293\n",
      "bestIteration = 423\n",
      "\n",
      "Shrink model to first 424 iterations.\n",
      "FOLD 6 : logloss:0.6691909292546802\n",
      "================================================================================\n",
      "\n",
      "\n",
      "====================================7============================================\n",
      "0:\tlearn: 1.0767671\ttest: 1.0767984\ttest1: 1.0767797\tbest: 1.0767797 (0)\ttotal: 139ms\tremaining: 6m 57s\n",
      "100:\tlearn: 0.7184446\ttest: 0.5169130\ttest1: 0.6735904\tbest: 0.6735904 (100)\ttotal: 10.4s\tremaining: 4m 58s\n",
      "200:\tlearn: 0.7030103\ttest: 0.4924467\ttest1: 0.6661736\tbest: 0.6661736 (200)\ttotal: 23.2s\tremaining: 5m 22s\n",
      "300:\tlearn: 0.6872298\ttest: 0.4831449\ttest1: 0.6633754\tbest: 0.6633754 (300)\ttotal: 37.4s\tremaining: 5m 35s\n",
      "400:\tlearn: 0.6721959\ttest: 0.4772047\ttest1: 0.6627130\tbest: 0.6626525 (394)\ttotal: 51.9s\tremaining: 5m 36s\n",
      "500:\tlearn: 0.6566153\ttest: 0.4736067\ttest1: 0.6625675\tbest: 0.6622273 (476)\ttotal: 1m 7s\tremaining: 5m 34s\n",
      "Stopped by overfitting detector  (50 iterations wait)\n",
      "\n",
      "bestTest = 0.6622272693\n",
      "bestIteration = 476\n",
      "\n",
      "Shrink model to first 477 iterations.\n",
      "FOLD 7 : logloss:0.662227269273588\n",
      "================================================================================\n",
      "\n",
      "\n",
      "====================================8============================================\n",
      "0:\tlearn: 1.0752738\ttest: 1.0752649\ttest1: 1.0752663\tbest: 1.0752663 (0)\ttotal: 115ms\tremaining: 5m 45s\n",
      "100:\tlearn: 0.7184846\ttest: 0.5150940\ttest1: 0.6674425\tbest: 0.6674425 (100)\ttotal: 11.2s\tremaining: 5m 22s\n",
      "200:\tlearn: 0.7031174\ttest: 0.4773070\ttest1: 0.6598141\tbest: 0.6598052 (199)\ttotal: 24.7s\tremaining: 5m 44s\n",
      "300:\tlearn: 0.6888186\ttest: 0.4629213\ttest1: 0.6574254\tbest: 0.6573416 (296)\ttotal: 39.5s\tremaining: 5m 54s\n",
      "400:\tlearn: 0.6746217\ttest: 0.4561284\ttest1: 0.6563381\tbest: 0.6563167 (394)\ttotal: 54.5s\tremaining: 5m 52s\n",
      "Stopped by overfitting detector  (50 iterations wait)\n",
      "\n",
      "bestTest = 0.6562766794\n",
      "bestIteration = 437\n",
      "\n",
      "Shrink model to first 438 iterations.\n",
      "FOLD 8 : logloss:0.6562766794124822\n",
      "================================================================================\n",
      "\n",
      "\n",
      "====================================9============================================\n",
      "0:\tlearn: 1.0768049\ttest: 1.0767886\ttest1: 1.0766470\tbest: 1.0766470 (0)\ttotal: 142ms\tremaining: 7m 6s\n",
      "100:\tlearn: 0.7193065\ttest: 0.5195150\ttest1: 0.6771171\tbest: 0.6771171 (100)\ttotal: 10.9s\tremaining: 5m 14s\n",
      "200:\tlearn: 0.7016532\ttest: 0.4880622\ttest1: 0.6689692\tbest: 0.6689197 (197)\ttotal: 25.4s\tremaining: 5m 54s\n",
      "300:\tlearn: 0.6877927\ttest: 0.4679382\ttest1: 0.6668819\tbest: 0.6668819 (300)\ttotal: 40.4s\tremaining: 6m 2s\n",
      "400:\tlearn: 0.6735662\ttest: 0.4627046\ttest1: 0.6667356\tbest: 0.6666244 (394)\ttotal: 57.5s\tremaining: 6m 12s\n",
      "500:\tlearn: 0.6591285\ttest: 0.4577440\ttest1: 0.6660008\tbest: 0.6659782 (479)\ttotal: 1m 13s\tremaining: 6m 4s\n",
      "600:\tlearn: 0.6447510\ttest: 0.4532400\ttest1: 0.6657129\tbest: 0.6656843 (595)\ttotal: 1m 28s\tremaining: 5m 51s\n"
     ]
    },
    {
     "name": "stdout",
     "output_type": "stream",
     "text": [
      "700:\tlearn: 0.6301748\ttest: 0.4490891\ttest1: 0.6651684\tbest: 0.6651349 (696)\ttotal: 1m 43s\tremaining: 5m 39s\n",
      "800:\tlearn: 0.6159579\ttest: 0.4446388\ttest1: 0.6647183\tbest: 0.6645502 (787)\ttotal: 1m 58s\tremaining: 5m 25s\n",
      "900:\tlearn: 0.6010922\ttest: 0.4407893\ttest1: 0.6642516\tbest: 0.6642253 (861)\ttotal: 2m 13s\tremaining: 5m 11s\n",
      "Stopped by overfitting detector  (50 iterations wait)\n",
      "\n",
      "bestTest = 0.6642252852\n",
      "bestIteration = 861\n",
      "\n",
      "Shrink model to first 862 iterations.\n",
      "FOLD 9 : logloss:0.6642252851534052\n",
      "================================================================================\n",
      "\n",
      "\n",
      "====================================10============================================\n",
      "0:\tlearn: 1.0768180\ttest: 1.0767707\ttest1: 1.0768660\tbest: 1.0768660 (0)\ttotal: 148ms\tremaining: 7m 25s\n",
      "100:\tlearn: 0.7181306\ttest: 0.5172599\ttest1: 0.6810804\tbest: 0.6810804 (100)\ttotal: 11.7s\tremaining: 5m 35s\n",
      "200:\tlearn: 0.7022428\ttest: 0.4922048\ttest1: 0.6743342\tbest: 0.6742762 (191)\ttotal: 25s\tremaining: 5m 47s\n",
      "300:\tlearn: 0.6881953\ttest: 0.4752019\ttest1: 0.6722590\tbest: 0.6722526 (299)\ttotal: 40.1s\tremaining: 5m 59s\n",
      "400:\tlearn: 0.6733334\ttest: 0.4668762\ttest1: 0.6712334\tbest: 0.6712334 (400)\ttotal: 55.8s\tremaining: 6m 1s\n",
      "500:\tlearn: 0.6593390\ttest: 0.4620588\ttest1: 0.6710938\tbest: 0.6709456 (474)\ttotal: 1m 11s\tremaining: 5m 57s\n",
      "Stopped by overfitting detector  (50 iterations wait)\n",
      "\n",
      "bestTest = 0.6709455537\n",
      "bestIteration = 474\n",
      "\n",
      "Shrink model to first 475 iterations.\n",
      "FOLD 10 : logloss:0.6709455537332741\n",
      "================================================================================\n",
      "\n",
      "\n",
      "Mean:0.6657551796316662\n"
     ]
    }
   ],
   "source": [
    "my_submission = run_kfold(8, 0.04, [1042])\n",
    "# print('*********************************\\n\\n')\n",
    "# my_submission1 = run_kfold(7, 0.04, [1042])\n",
    "# print('*********************************\\n\\n')\n",
    "# my_submission2 = run_kfold(6, 0.04, [1042])\n",
    "# print('*********************************\\n\\n')\n",
    "# my_submission2 = run_kfold(8, 0.037, [1042])"
   ]
  },
  {
   "cell_type": "markdown",
   "id": "accompanied-genome",
   "metadata": {},
   "source": [
    "# Feature_Importance_Plot"
   ]
  },
  {
   "cell_type": "code",
   "execution_count": 22,
   "id": "similar-brown",
   "metadata": {},
   "outputs": [],
   "source": [
    "def plot_feature_importance(importance,names,model_type):\n",
    "    \n",
    "    #Create arrays from feature importance and feature names\n",
    "    feature_importance = np.array(importance)\n",
    "    feature_names = np.array(names)\n",
    "    \n",
    "    #Create a DataFrame using a Dictionary\n",
    "    data={'feature_names':feature_names,'feature_importance':feature_importance}\n",
    "    fi_df = pd.DataFrame(data)\n",
    "    \n",
    "    #Sort the DataFrame in order decreasing feature importance\n",
    "    fi_df.sort_values(by=['feature_importance'], ascending=False,inplace=True)\n",
    "    \n",
    "    #Define size of bar plot\n",
    "    plt.figure(figsize=(10,8))\n",
    "    #Plot Searborn bar chart\n",
    "    sns.barplot(x=fi_df['feature_importance'], y=fi_df['feature_names'])\n",
    "    #Add chart labels\n",
    "    plt.title(model_type + 'FEATURE IMPORTANCE')\n",
    "    plt.xlabel('FEATURE IMPORTANCE')\n",
    "    plt.ylabel('FEATURE NAMES')\n"
   ]
  },
  {
   "cell_type": "code",
   "execution_count": 23,
   "id": "consolidated-tucson",
   "metadata": {},
   "outputs": [
    {
     "data": {
      "image/png": "[encoded data removed]",
      "text/plain": [
       "<Figure size 720x576 with 1 Axes>"
      ]
     },
     "metadata": {
      "needs_background": "light"
     },
     "output_type": "display_data"
    }
   ],
   "source": [
    "#plot the xgboost result\n",
    "plot_feature_importance(cat_models[0].get_feature_importance(), train_x.columns,'CatBOOST')"
   ]
  },
  {
   "cell_type": "markdown",
   "id": "express-server",
   "metadata": {},
   "source": [
    "# 최종 모델 fit 전체로 학습"
   ]
  },
  {
   "cell_type": "code",
   "execution_count": null,
   "id": "electoral-brain",
   "metadata": {},
   "outputs": [
    {
     "name": "stdout",
     "output_type": "stream",
     "text": [
      "0:\tlearn: 1.0757624\ttotal: 110ms\tremaining: 48.3s\n",
      "50:\tlearn: 0.7395179\ttotal: 4.59s\tremaining: 35s\n",
      "100:\tlearn: 0.7122598\ttotal: 10.7s\tremaining: 35.9s\n",
      "150:\tlearn: 0.7035743\ttotal: 17.3s\tremaining: 33.1s\n",
      "200:\tlearn: 0.6971476\ttotal: 24.1s\tremaining: 28.7s\n",
      "250:\tlearn: 0.6911508\ttotal: 30.8s\tremaining: 23.2s\n",
      "300:\tlearn: 0.6834176\ttotal: 38s\tremaining: 17.5s\n",
      "350:\tlearn: 0.6765608\ttotal: 45s\tremaining: 11.4s\n",
      "400:\tlearn: 0.6692687\ttotal: 52.6s\tremaining: 5.12s\n"
     ]
    }
   ],
   "source": [
    "cat = CatBoostClassifier(n_estimators=440, max_depth=8, random_seed=2, learning_rate =0.04, bootstrap_type ='Bernoulli')\n",
    "cat.fit(train_x, train_y, cat_features=cat_features, verbose=50)\n",
    "test_predictions = cat.predict_proba(test)"
   ]
  },
  {
   "cell_type": "markdown",
   "id": "parallel-homework",
   "metadata": {},
   "source": [
    "# 결과 확인 및 제출 파일 생성"
   ]
  },
  {
   "cell_type": "code",
   "execution_count": 29,
   "id": "rural-forest",
   "metadata": {},
   "outputs": [
    {
     "data": {
      "text/plain": [
       "array([[0.13825518, 0.17499774, 0.68674708],\n",
       "       [0.34071298, 0.23721664, 0.42207038],\n",
       "       [0.03983664, 0.07509341, 0.88506995],\n",
       "       ...,\n",
       "       [0.04653734, 0.11161226, 0.84185039],\n",
       "       [0.14191861, 0.31761458, 0.5404668 ],\n",
       "       [0.05479071, 0.4509871 , 0.49422219]])"
      ]
     },
     "execution_count": 29,
     "metadata": {},
     "output_type": "execute_result"
    }
   ],
   "source": [
    "my_submission = test_predictions \n",
    "my_submission"
   ]
  },
  {
   "cell_type": "code",
   "execution_count": 30,
   "id": "designing-costume",
   "metadata": {},
   "outputs": [],
   "source": [
    "# my_submission_mean = (my_submission1 + my_submission2 + my_submission3)/3\n",
    "# my_submission_mean"
   ]
  },
  {
   "cell_type": "code",
   "execution_count": 31,
   "id": "involved-details",
   "metadata": {},
   "outputs": [
    {
     "data": {
      "text/html": [
       "<div>\n",
       "<style scoped>\n",
       "    .dataframe tbody tr th:only-of-type {\n",
       "        vertical-align: middle;\n",
       "    }\n",
       "\n",
       "    .dataframe tbody tr th {\n",
       "        vertical-align: top;\n",
       "    }\n",
       "\n",
       "    .dataframe thead th {\n",
       "        text-align: right;\n",
       "    }\n",
       "</style>\n",
       "<table border=\"1\" class=\"dataframe\">\n",
       "  <thead>\n",
       "    <tr style=\"text-align: right;\">\n",
       "      <th></th>\n",
       "      <th>index</th>\n",
       "      <th>0</th>\n",
       "      <th>1</th>\n",
       "      <th>2</th>\n",
       "    </tr>\n",
       "  </thead>\n",
       "  <tbody>\n",
       "    <tr>\n",
       "      <th>0</th>\n",
       "      <td>26457</td>\n",
       "      <td>0.138255</td>\n",
       "      <td>0.174998</td>\n",
       "      <td>0.686747</td>\n",
       "    </tr>\n",
       "    <tr>\n",
       "      <th>1</th>\n",
       "      <td>26458</td>\n",
       "      <td>0.340713</td>\n",
       "      <td>0.237217</td>\n",
       "      <td>0.422070</td>\n",
       "    </tr>\n",
       "    <tr>\n",
       "      <th>2</th>\n",
       "      <td>26459</td>\n",
       "      <td>0.039837</td>\n",
       "      <td>0.075093</td>\n",
       "      <td>0.885070</td>\n",
       "    </tr>\n",
       "    <tr>\n",
       "      <th>3</th>\n",
       "      <td>26460</td>\n",
       "      <td>0.063896</td>\n",
       "      <td>0.072631</td>\n",
       "      <td>0.863473</td>\n",
       "    </tr>\n",
       "    <tr>\n",
       "      <th>4</th>\n",
       "      <td>26461</td>\n",
       "      <td>0.077709</td>\n",
       "      <td>0.209775</td>\n",
       "      <td>0.712516</td>\n",
       "    </tr>\n",
       "    <tr>\n",
       "      <th>...</th>\n",
       "      <td>...</td>\n",
       "      <td>...</td>\n",
       "      <td>...</td>\n",
       "      <td>...</td>\n",
       "    </tr>\n",
       "    <tr>\n",
       "      <th>9995</th>\n",
       "      <td>36452</td>\n",
       "      <td>0.062743</td>\n",
       "      <td>0.206846</td>\n",
       "      <td>0.730411</td>\n",
       "    </tr>\n",
       "    <tr>\n",
       "      <th>9996</th>\n",
       "      <td>36453</td>\n",
       "      <td>0.134688</td>\n",
       "      <td>0.421674</td>\n",
       "      <td>0.443637</td>\n",
       "    </tr>\n",
       "    <tr>\n",
       "      <th>9997</th>\n",
       "      <td>36454</td>\n",
       "      <td>0.046537</td>\n",
       "      <td>0.111612</td>\n",
       "      <td>0.841850</td>\n",
       "    </tr>\n",
       "    <tr>\n",
       "      <th>9998</th>\n",
       "      <td>36455</td>\n",
       "      <td>0.141919</td>\n",
       "      <td>0.317615</td>\n",
       "      <td>0.540467</td>\n",
       "    </tr>\n",
       "    <tr>\n",
       "      <th>9999</th>\n",
       "      <td>36456</td>\n",
       "      <td>0.054791</td>\n",
       "      <td>0.450987</td>\n",
       "      <td>0.494222</td>\n",
       "    </tr>\n",
       "  </tbody>\n",
       "</table>\n",
       "<p>10000 rows × 4 columns</p>\n",
       "</div>"
      ],
      "text/plain": [
       "      index         0         1         2\n",
       "0     26457  0.138255  0.174998  0.686747\n",
       "1     26458  0.340713  0.237217  0.422070\n",
       "2     26459  0.039837  0.075093  0.885070\n",
       "3     26460  0.063896  0.072631  0.863473\n",
       "4     26461  0.077709  0.209775  0.712516\n",
       "...     ...       ...       ...       ...\n",
       "9995  36452  0.062743  0.206846  0.730411\n",
       "9996  36453  0.134688  0.421674  0.443637\n",
       "9997  36454  0.046537  0.111612  0.841850\n",
       "9998  36455  0.141919  0.317615  0.540467\n",
       "9999  36456  0.054791  0.450987  0.494222\n",
       "\n",
       "[10000 rows x 4 columns]"
      ]
     },
     "execution_count": 31,
     "metadata": {},
     "output_type": "execute_result"
    }
   ],
   "source": [
    "submission=pd.read_csv('./open/sample_submission.csv')\n",
    "submission.loc[:,1:]=my_submission\n",
    "submission"
   ]
  },
  {
   "cell_type": "code",
   "execution_count": 32,
   "id": "consecutive-segment",
   "metadata": {},
   "outputs": [],
   "source": [
    "submission.to_csv('./submit/10fold_cat_0.66575_fit_440_0.66479.csv', index=False) "
   ]
  },
  {
   "cell_type": "code",
   "execution_count": 33,
   "id": "daily-recipe",
   "metadata": {},
   "outputs": [
    {
     "data": {
      "text/html": [
       "<div>\n",
       "<style scoped>\n",
       "    .dataframe tbody tr th:only-of-type {\n",
       "        vertical-align: middle;\n",
       "    }\n",
       "\n",
       "    .dataframe tbody tr th {\n",
       "        vertical-align: top;\n",
       "    }\n",
       "\n",
       "    .dataframe thead th {\n",
       "        text-align: right;\n",
       "    }\n",
       "</style>\n",
       "<table border=\"1\" class=\"dataframe\">\n",
       "  <thead>\n",
       "    <tr style=\"text-align: right;\">\n",
       "      <th></th>\n",
       "      <th>index</th>\n",
       "      <th>0</th>\n",
       "      <th>1</th>\n",
       "      <th>2</th>\n",
       "    </tr>\n",
       "  </thead>\n",
       "  <tbody>\n",
       "    <tr>\n",
       "      <th>0</th>\n",
       "      <td>26457</td>\n",
       "      <td>0.138255</td>\n",
       "      <td>0.174998</td>\n",
       "      <td>0.686747</td>\n",
       "    </tr>\n",
       "    <tr>\n",
       "      <th>1</th>\n",
       "      <td>26458</td>\n",
       "      <td>0.340713</td>\n",
       "      <td>0.237217</td>\n",
       "      <td>0.422070</td>\n",
       "    </tr>\n",
       "    <tr>\n",
       "      <th>2</th>\n",
       "      <td>26459</td>\n",
       "      <td>0.039837</td>\n",
       "      <td>0.075093</td>\n",
       "      <td>0.885070</td>\n",
       "    </tr>\n",
       "    <tr>\n",
       "      <th>3</th>\n",
       "      <td>26460</td>\n",
       "      <td>0.063896</td>\n",
       "      <td>0.072631</td>\n",
       "      <td>0.863473</td>\n",
       "    </tr>\n",
       "    <tr>\n",
       "      <th>4</th>\n",
       "      <td>26461</td>\n",
       "      <td>0.077709</td>\n",
       "      <td>0.209775</td>\n",
       "      <td>0.712516</td>\n",
       "    </tr>\n",
       "    <tr>\n",
       "      <th>5</th>\n",
       "      <td>26462</td>\n",
       "      <td>0.055989</td>\n",
       "      <td>0.125951</td>\n",
       "      <td>0.818061</td>\n",
       "    </tr>\n",
       "    <tr>\n",
       "      <th>6</th>\n",
       "      <td>26463</td>\n",
       "      <td>0.647519</td>\n",
       "      <td>0.329222</td>\n",
       "      <td>0.023259</td>\n",
       "    </tr>\n",
       "    <tr>\n",
       "      <th>7</th>\n",
       "      <td>26464</td>\n",
       "      <td>0.044266</td>\n",
       "      <td>0.084067</td>\n",
       "      <td>0.871667</td>\n",
       "    </tr>\n",
       "    <tr>\n",
       "      <th>8</th>\n",
       "      <td>26465</td>\n",
       "      <td>0.056298</td>\n",
       "      <td>0.082324</td>\n",
       "      <td>0.861378</td>\n",
       "    </tr>\n",
       "    <tr>\n",
       "      <th>9</th>\n",
       "      <td>26466</td>\n",
       "      <td>0.059082</td>\n",
       "      <td>0.273524</td>\n",
       "      <td>0.667394</td>\n",
       "    </tr>\n",
       "    <tr>\n",
       "      <th>10</th>\n",
       "      <td>26467</td>\n",
       "      <td>0.115972</td>\n",
       "      <td>0.103570</td>\n",
       "      <td>0.780458</td>\n",
       "    </tr>\n",
       "    <tr>\n",
       "      <th>11</th>\n",
       "      <td>26468</td>\n",
       "      <td>0.032442</td>\n",
       "      <td>0.083199</td>\n",
       "      <td>0.884360</td>\n",
       "    </tr>\n",
       "    <tr>\n",
       "      <th>12</th>\n",
       "      <td>26469</td>\n",
       "      <td>0.665403</td>\n",
       "      <td>0.090017</td>\n",
       "      <td>0.244581</td>\n",
       "    </tr>\n",
       "    <tr>\n",
       "      <th>13</th>\n",
       "      <td>26470</td>\n",
       "      <td>0.059920</td>\n",
       "      <td>0.426578</td>\n",
       "      <td>0.513502</td>\n",
       "    </tr>\n",
       "    <tr>\n",
       "      <th>14</th>\n",
       "      <td>26471</td>\n",
       "      <td>0.106249</td>\n",
       "      <td>0.126847</td>\n",
       "      <td>0.766904</td>\n",
       "    </tr>\n",
       "    <tr>\n",
       "      <th>15</th>\n",
       "      <td>26472</td>\n",
       "      <td>0.057336</td>\n",
       "      <td>0.279493</td>\n",
       "      <td>0.663171</td>\n",
       "    </tr>\n",
       "    <tr>\n",
       "      <th>16</th>\n",
       "      <td>26473</td>\n",
       "      <td>0.040020</td>\n",
       "      <td>0.070766</td>\n",
       "      <td>0.889213</td>\n",
       "    </tr>\n",
       "    <tr>\n",
       "      <th>17</th>\n",
       "      <td>26474</td>\n",
       "      <td>0.355670</td>\n",
       "      <td>0.619665</td>\n",
       "      <td>0.024665</td>\n",
       "    </tr>\n",
       "    <tr>\n",
       "      <th>18</th>\n",
       "      <td>26475</td>\n",
       "      <td>0.372862</td>\n",
       "      <td>0.143434</td>\n",
       "      <td>0.483704</td>\n",
       "    </tr>\n",
       "    <tr>\n",
       "      <th>19</th>\n",
       "      <td>26476</td>\n",
       "      <td>0.036713</td>\n",
       "      <td>0.089440</td>\n",
       "      <td>0.873847</td>\n",
       "    </tr>\n",
       "  </tbody>\n",
       "</table>\n",
       "</div>"
      ],
      "text/plain": [
       "    index         0         1         2\n",
       "0   26457  0.138255  0.174998  0.686747\n",
       "1   26458  0.340713  0.237217  0.422070\n",
       "2   26459  0.039837  0.075093  0.885070\n",
       "3   26460  0.063896  0.072631  0.863473\n",
       "4   26461  0.077709  0.209775  0.712516\n",
       "5   26462  0.055989  0.125951  0.818061\n",
       "6   26463  0.647519  0.329222  0.023259\n",
       "7   26464  0.044266  0.084067  0.871667\n",
       "8   26465  0.056298  0.082324  0.861378\n",
       "9   26466  0.059082  0.273524  0.667394\n",
       "10  26467  0.115972  0.103570  0.780458\n",
       "11  26468  0.032442  0.083199  0.884360\n",
       "12  26469  0.665403  0.090017  0.244581\n",
       "13  26470  0.059920  0.426578  0.513502\n",
       "14  26471  0.106249  0.126847  0.766904\n",
       "15  26472  0.057336  0.279493  0.663171\n",
       "16  26473  0.040020  0.070766  0.889213\n",
       "17  26474  0.355670  0.619665  0.024665\n",
       "18  26475  0.372862  0.143434  0.483704\n",
       "19  26476  0.036713  0.089440  0.873847"
      ]
     },
     "execution_count": 33,
     "metadata": {},
     "output_type": "execute_result"
    }
   ],
   "source": [
    "submission.head(20)"
   ]
  },
  {
   "cell_type": "code",
   "execution_count": null,
   "id": "undefined-durham",
   "metadata": {},
   "outputs": [],
   "source": []
  },
  {
   "cell_type": "code",
   "execution_count": null,
   "id": "extraordinary-friendship",
   "metadata": {},
   "outputs": [],
   "source": []
  }
 ],
 "metadata": {
  "kernelspec": {
   "display_name": "Python 3",
   "language": "python",
   "name": "python3"
  },
  "language_info": {
   "codemirror_mode": {
    "name": "ipython",
    "version": 3
   },
   "file_extension": ".py",
   "mimetype": "text/x-python",
   "name": "python",
   "nbconvert_exporter": "python",
   "pygments_lexer": "ipython3",
   "version": "3.6.12"
  }
 },
 "nbformat": 4,
 "nbformat_minor": 5
}
